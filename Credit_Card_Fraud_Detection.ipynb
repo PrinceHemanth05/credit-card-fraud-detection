{
  "nbformat": 4,
  "nbformat_minor": 0,
  "metadata": {
    "colab": {
      "provenance": []
    },
    "kernelspec": {
      "name": "python3",
      "display_name": "Python 3"
    },
    "language_info": {
      "name": "python"
    }
  },
  "cells": [
    {
      "cell_type": "code",
      "execution_count": 3,
      "metadata": {
        "id": "-A2j_yvuYEfI"
      },
      "outputs": [],
      "source": [
        "import pandas as pd\n",
        "from sklearn.model_selection import train_test_split\n",
        "from sklearn.preprocessing import StandardScaler, OneHotEncoder\n",
        "from sklearn.compose import ColumnTransformer\n",
        "from sklearn.pipeline import Pipeline\n",
        "from tensorflow.keras.models import Sequential\n",
        "from tensorflow.keras.layers import Dense, InputLayer\n",
        "from sklearn.metrics import classification_report, confusion_matrix\n",
        "import numpy as np\n",
        "from sklearn.utils import class_weight\n"
      ]
    },
    {
      "cell_type": "code",
      "source": [
        "# Load the dataset\n",
        "df = pd.read_csv('credit_card_fraud_dataset.csv')"
      ],
      "metadata": {
        "id": "1Mxbiij3YKgS"
      },
      "execution_count": 4,
      "outputs": []
    },
    {
      "cell_type": "code",
      "source": [
        "# --- 1. Data Preprocessing ---\n",
        "\n",
        "# Drop 'TransactionID' as it's just an identifier\n",
        "df = df.drop('TransactionID', axis=1)\n"
      ],
      "metadata": {
        "id": "SZ6rwryBYZoB"
      },
      "execution_count": 5,
      "outputs": []
    },
    {
      "cell_type": "code",
      "source": [
        "# Convert 'TransactionDate' to datetime and extract features\n",
        "df['TransactionDate'] = pd.to_datetime(df['TransactionDate'], errors='coerce')\n",
        "\n",
        "# Drop rows where TransactionDate is NaT (invalid date)\n",
        "df.dropna(subset=['TransactionDate'], inplace=True)\n",
        "\n",
        "df['hour'] = df['TransactionDate'].dt.hour\n",
        "df['day'] = df['TransactionDate'].dt.day\n",
        "df['month'] = df['TransactionDate'].dt.month\n",
        "df = df.drop('TransactionDate', axis=1)"
      ],
      "metadata": {
        "id": "PogeT8YNYo2B"
      },
      "execution_count": 6,
      "outputs": []
    },
    {
      "cell_type": "code",
      "source": [
        "# Identify categorical and numerical features\n",
        "categorical_features = ['TransactionType', 'Location']\n",
        "numerical_features = ['Amount', 'MerchantID', 'hour', 'day', 'month']\n"
      ],
      "metadata": {
        "id": "QNfXh-b_Yr-A"
      },
      "execution_count": 7,
      "outputs": []
    },
    {
      "cell_type": "code",
      "source": [
        "# Create a preprocessing pipeline to scale numerical features and one-hot encode categorical features\n",
        "preprocessor = ColumnTransformer(\n",
        "    transformers=[\n",
        "        ('num', StandardScaler(), numerical_features),\n",
        "        ('cat', OneHotEncoder(handle_unknown='ignore'), categorical_features)\n",
        "    ])\n"
      ],
      "metadata": {
        "id": "84OJid_QZGYJ"
      },
      "execution_count": 8,
      "outputs": []
    },
    {
      "cell_type": "code",
      "source": [
        "# Define features (X) and target (y)\n",
        "X = df.drop('IsFraud', axis=1)\n",
        "y = df['IsFraud']\n"
      ],
      "metadata": {
        "id": "CDbb6Y-IZNnI"
      },
      "execution_count": 9,
      "outputs": []
    },
    {
      "cell_type": "code",
      "source": [
        "# Split data into training and testing sets\n",
        "X_train, X_test, y_train, y_test = train_test_split(X, y, test_size=0.2, random_state=42, stratify=y)\n"
      ],
      "metadata": {
        "id": "xzgeq2v-ZQ_C"
      },
      "execution_count": 10,
      "outputs": []
    },
    {
      "cell_type": "code",
      "source": [
        "# Create the full pipeline with preprocessing\n",
        "pipeline = Pipeline(steps=[('preprocessor', preprocessor)])"
      ],
      "metadata": {
        "id": "xia3QVnaZWG3"
      },
      "execution_count": 11,
      "outputs": []
    },
    {
      "cell_type": "code",
      "source": [
        "# Fit and transform the training data, and transform the test data\n",
        "X_train_processed = pipeline.fit_transform(X_train)\n",
        "X_test_processed = pipeline.transform(X_test)"
      ],
      "metadata": {
        "id": "eS37LYSiZZrY"
      },
      "execution_count": 12,
      "outputs": []
    },
    {
      "cell_type": "code",
      "source": [
        "# --- 2. Handling Class Imbalance ---\n",
        "# Calculate class weights to give more importance to the minority class (fraud)\n",
        "class_weights = class_weight.compute_class_weight('balanced', classes=np.unique(y_train), y=y_train)\n",
        "class_weights = {i : class_weights[i] for i in range(len(class_weights))}"
      ],
      "metadata": {
        "id": "rAVHFTV7ZdDX"
      },
      "execution_count": 13,
      "outputs": []
    },
    {
      "cell_type": "code",
      "source": [
        "# --- 3. Building and Training the Neural Network ---\n",
        "\n",
        "# Build the neural network model\n",
        "model = Sequential([\n",
        "    InputLayer(input_shape=(X_train_processed.shape[1],)),\n",
        "    Dense(32, activation='relu'),\n",
        "    Dense(16, activation='relu'),\n",
        "    Dense(1, activation='sigmoid') # Sigmoid for binary classification\n",
        "])"
      ],
      "metadata": {
        "colab": {
          "base_uri": "https://localhost:8080/"
        },
        "id": "XqDY7AFhZg_Y",
        "outputId": "1315443e-2b50-4660-8c5a-d2ca9308be21"
      },
      "execution_count": 14,
      "outputs": [
        {
          "output_type": "stream",
          "name": "stderr",
          "text": [
            "/usr/local/lib/python3.12/dist-packages/keras/src/layers/core/input_layer.py:27: UserWarning: Argument `input_shape` is deprecated. Use `shape` instead.\n",
            "  warnings.warn(\n"
          ]
        }
      ]
    },
    {
      "cell_type": "code",
      "source": [
        "# Compile the model\n",
        "model.compile(optimizer='adam',\n",
        "              loss='binary_crossentropy',\n",
        "              metrics=['accuracy'])\n"
      ],
      "metadata": {
        "id": "RxOLe7LuZlSS"
      },
      "execution_count": 15,
      "outputs": []
    },
    {
      "cell_type": "code",
      "source": [
        "# Train the model with class weights\n",
        "model.fit(X_train_processed, y_train, epochs=10, batch_size=32, validation_split=0.2, class_weight=class_weights, verbose=0)\n",
        "\n"
      ],
      "metadata": {
        "colab": {
          "base_uri": "https://localhost:8080/"
        },
        "id": "rBwLYkacZpzI",
        "outputId": "7a1781a0-d3ed-4124-8d39-17df8778592f"
      },
      "execution_count": 16,
      "outputs": [
        {
          "output_type": "execute_result",
          "data": {
            "text/plain": [
              "<keras.src.callbacks.history.History at 0x7c12ee398650>"
            ]
          },
          "metadata": {},
          "execution_count": 16
        }
      ]
    },
    {
      "cell_type": "code",
      "source": [
        "# --- 4. Model Evaluation ---\n",
        "\n",
        "# Evaluate the model on the test set\n",
        "loss, accuracy = model.evaluate(X_test_processed, y_test, verbose=0)\n"
      ],
      "metadata": {
        "id": "5zSU_MRBZtkR"
      },
      "execution_count": 17,
      "outputs": []
    },
    {
      "cell_type": "code",
      "source": [
        "# Make predictions\n",
        "y_pred_prob = model.predict(X_test_processed)\n",
        "y_pred = (y_pred_prob > 0.5).astype(int) # Convert probabilities to binary predictions\n"
      ],
      "metadata": {
        "colab": {
          "base_uri": "https://localhost:8080/"
        },
        "id": "Q1PRFFAtZ8aH",
        "outputId": "9e399e78-9aa9-47c3-a5af-5a6bdc33cd61"
      },
      "execution_count": 18,
      "outputs": [
        {
          "output_type": "stream",
          "name": "stdout",
          "text": [
            "\u001b[1m625/625\u001b[0m \u001b[32m━━━━━━━━━━━━━━━━━━━━\u001b[0m\u001b[37m\u001b[0m \u001b[1m1s\u001b[0m 1ms/step\n"
          ]
        }
      ]
    },
    {
      "cell_type": "code",
      "source": [
        "# Print the results\n",
        "print(f\"Test Accuracy: {accuracy:.4f}\")\n",
        "print(\"\\nClassification Report:\")\n",
        "print(classification_report(y_test, y_pred))\n",
        "print(\"\\nConfusion Matrix:\")\n",
        "print(confusion_matrix(y_test, y_pred))\n"
      ],
      "metadata": {
        "colab": {
          "base_uri": "https://localhost:8080/"
        },
        "id": "XrdrasKKaDBx",
        "outputId": "647554be-f2f6-42b2-ca24-7c5304ee71e1"
      },
      "execution_count": 19,
      "outputs": [
        {
          "output_type": "stream",
          "name": "stdout",
          "text": [
            "Test Accuracy: 0.5659\n",
            "\n",
            "Classification Report:\n",
            "              precision    recall  f1-score   support\n",
            "\n",
            "           0       0.99      0.57      0.72     19800\n",
            "           1       0.01      0.41      0.02       200\n",
            "\n",
            "    accuracy                           0.57     20000\n",
            "   macro avg       0.50      0.49      0.37     20000\n",
            "weighted avg       0.98      0.57      0.71     20000\n",
            "\n",
            "\n",
            "Confusion Matrix:\n",
            "[[11236  8564]\n",
            " [  118    82]]\n"
          ]
        }
      ]
    },
    {
      "cell_type": "code",
      "source": [],
      "metadata": {
        "id": "U6CMXmXKaL_v"
      },
      "execution_count": 19,
      "outputs": []
    }
  ]
}